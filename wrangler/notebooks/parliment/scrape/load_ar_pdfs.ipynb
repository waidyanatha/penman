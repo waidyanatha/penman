{
 "cells": [
  {
   "cell_type": "markdown",
   "id": "36b49014",
   "metadata": {},
   "source": [
    "# Load and Embed PDF artciles\n",
    "* [Following](https://www.linkedin.com/pulse/build-lightning-fast-rag-chatbot-powered-groqs-lpu-ollama-multani-ssloc)\n",
    "* [Dockerized chromadb](https://medium.com/@pierrelouislet/getting-started-with-chroma-db-a-beginners-tutorial-6efa32300902)"
   ]
  },
  {
   "cell_type": "code",
   "execution_count": 1,
   "id": "f6b3f81f-58cd-4e11-bdc8-4a67379ab6fd",
   "metadata": {},
   "outputs": [],
   "source": [
    "'''\n",
    "    WARNING CONTROL to display or ignore all warnings\n",
    "'''\n",
    "import warnings; warnings.simplefilter('ignore')     #switch betweeb 'default' and 'ignore'\n",
    "import traceback\n",
    "\n",
    "''' Set debug flag to view extended error messages; else set it to False to turn off debugging mode '''\n",
    "debug = True\n"
   ]
  },
  {
   "cell_type": "code",
   "execution_count": 2,
   "id": "97703e49-acda-46f8-8607-58380a1c1cec",
   "metadata": {},
   "outputs": [
    {
     "name": "stdout",
     "output_type": "stream",
     "text": [
      "All functional __PROPATTR__-libraries in LOADER-package of ETL-module imported successfully!\n",
      "All functional VECTORDB-libraries in LOADER-package of ETL-module imported successfully!\n",
      "All functional VECTORIZE_PDF-libraries in SCRAPE-package of PARLIMENT-module imported successfully!\n",
      "All functional VECTORDB-libraries in LOADER-package of ETL-module imported successfully!\n",
      "All functional VECTORIZE_PDF-libraries in SCRAPE-package of PARLIMENT-module imported successfully!\n",
      "All functional APP-libraries in REZAWARE-package of REZAWARE-module imported successfully!\n",
      "__propAttr__ Class initialization complete\n",
      "\n",
      "read pdf files in folder and store as vectors class initialization and load complete!\n"
     ]
    }
   ],
   "source": [
    "import os\n",
    "import sys\n",
    "__import__('pysqlite3')\n",
    "import sys\n",
    "sys.modules['sqlite3'] = sys.modules.pop('pysqlite3')\n",
    "\n",
    "proj_dir = os.path.abspath(os.pardir)\n",
    "sys.path.insert(1,proj_dir.split('wrangler/')[0])\n",
    "from rezaware.modules.etl.loader import vectorDB as vec\n",
    "from wrangler.modules.parliment.scrape import vectorize_pdf as vpdf\n",
    "\n",
    "''' restart initiate classes '''\n",
    "if debug:\n",
    "    import importlib\n",
    "    vec = importlib.reload(vec)\n",
    "    vpdf= importlib.reload(vpdf)\n",
    "\n",
    "__desc__ = \"read pdf files in folder and store as vectors\"\n",
    "clsPDF = vpdf.dataWorkLoads(desc=__desc__)\n",
    "__db_type__ = \"chromadb\"\n",
    "__chromadb_dir__ = \"/home/nuwan/workspace/penman/wrangler/data/parliment/scrape/\"\n",
    "__db_name__ = \"ar\"\n",
    "clsVDB = vec.dataWorkLoads(\n",
    "    desc=__desc__, \n",
    "    db_type=__db_type__, \n",
    "    db_root=__chromadb_dir__, \n",
    "    db_name=__db_name__\n",
    ")\n",
    "\n",
    "print(\"\\n%s class initialization and load complete!\" % __desc__)"
   ]
  },
  {
   "cell_type": "markdown",
   "id": "a51de760",
   "metadata": {},
   "source": [
    "## Loading documents"
   ]
  },
  {
   "cell_type": "code",
   "execution_count": 3,
   "id": "019d686f-8cbc-44b6-8736-5f337c3f5abd",
   "metadata": {},
   "outputs": [
    {
     "name": "stdout",
     "output_type": "stream",
     "text": [
      "Loaded 56 text pages\n"
     ]
    }
   ],
   "source": [
    "data_dir = \"/home/nuwan/workspace/penman/wrangler/data/parliment/scrape/ar\"\n",
    "the_text=clsPDF.load_pdf_files(\n",
    "    folder_path=data_dir\n",
    ")\n",
    "print(\"Loaded %d text pages\" % len(the_text))"
   ]
  },
  {
   "cell_type": "markdown",
   "id": "81c2d846",
   "metadata": {},
   "source": [
    "## Splitting Text into Chunks"
   ]
  },
  {
   "cell_type": "code",
   "execution_count": 6,
   "id": "8aea5c49-f538-4a73-bf5e-808b8ec1d37f",
   "metadata": {},
   "outputs": [
    {
     "name": "stdout",
     "output_type": "stream",
     "text": [
      "Split 56 docs into 117 chunks\n"
     ]
    }
   ],
   "source": [
    "chunks = clsPDF.text_to_chunks(\n",
    "    text = the_text\n",
    ")\n",
    "print(\"Split %d docs into %d chunks\" % (len(the_text),len(chunks)))"
   ]
  },
  {
   "cell_type": "markdown",
   "id": "d8e80303-8b54-4f4f-9469-73824f79993c",
   "metadata": {},
   "source": [
    "## Setting up the ChromaDB collection"
   ]
  },
  {
   "cell_type": "code",
   "execution_count": null,
   "id": "081f1a8c-a577-43d8-b8bb-73378dc665dd",
   "metadata": {},
   "outputs": [],
   "source": [
    "from langchain_community.embeddings import OllamaEmbeddings\n",
    "\n",
    "# __db_type__ = \"chromadb\"\n",
    "# __db_name__ = \"ar\"\n",
    "# __chromadb_dir__ = \"/home/nuwan/workspace/penman/wrangler/data/article/stock/\"\n",
    "__collection__= \"annualreports\"\n",
    "_embedding_fn = OllamaEmbeddings(model='nomic-embed-text')\n",
    "\n",
    "collections_lst_ = []\n",
    "try:\n",
    "    collections_lst_ = clsVDB.get_collections(db_name = __db_name__)\n",
    "except Exception as err:\n",
    "    print(err)\n",
    "if len(collections_lst_)<=0 or __collection__ not in [x.name for x in collections_lst_]:\n",
    "    print(\"creating document collection %s\" % __collection__.upper())\n",
    "    vectorstore=clsVDB.store_vectors(\n",
    "        documents=chunks,\n",
    "        # db_name = __db_name__,\n",
    "        collection = __collection__,\n",
    "        embedding_fn=_embedding_fn,\n",
    "    )\n",
    "else:\n",
    "    print(\"%s collection exists; reading documents\" % __collection__.upper())\n",
    "    vectorstore=clsVDB.read_vectors(\n",
    "        db_name = __db_name__,\n",
    "        collection = __collection__,\n",
    "        embedding_fn=_embedding_fn,        \n",
    "    )\n",
    "\n",
    "print(\"Loaded vectorstore %s collection with %d embeddings\"\n",
    "      % (vectorstore._collection.name.upper(), vectorstore._collection.count()))"
   ]
  },
  {
   "cell_type": "code",
   "execution_count": 9,
   "id": "65a32a28-28c2-4001-b0e6-20e20f183d21",
   "metadata": {},
   "outputs": [
    {
     "data": {
      "text/plain": [
       "[Document(metadata={'page': 0, 'source': '/home/nuwan/workspace/penman/wrangler/data/parliment/scrape/ar/1725007046002945_navy.pdf'}, page_content='SRI LANKA NAVY \\nANNUAL PERFORMANCE REPORT - 2023'),\n",
       " Document(metadata={'page': 21, 'source': '/home/nuwan/workspace/penman/wrangler/data/parliment/scrape/ar/1725007046002945_navy.pdf'}, page_content='27\\n CHAPTER 03  \\nOVERALL FINANCIAL PERFORMANCE FOR THE YEAR  \\nENDED ON 31ST DECEMBER 2023 \\n  \\n3.1  Statement of Financial Performance \\nACA -F \\nStatement of Financial Performance \\nfor the period ended on 31st December 2023 \\n  \\nBudget 2023   Note Actual \\nCurrent Year \\n(2023) (Rs.) Previous Year \\n(2022) (Rs.)  Revenue Receipts  900,000,000.00 247,000,000.00 - Income Tax 1 - - - Taxes on Domestic Goods \\n& Services  \\n2 -  - - Taxes on International \\nTrade  \\n3 - - 850,000,000.00 Non Tax Revenue & \\nothers  \\n4 900,000,000.00 247,000,000.00 850,000,000.00 Total Revenue Receipts \\n(A)  900,000,000.00 247,000,000.00 - Non Revenue Receipts  - -  Treasury Imprests  64,759,247,909.00 55,435,649,451.00 - Deposits  1,105,824,336.00 754,179,788.00 - Advance Accounts  3,088,366,686.00 1,249,618,422.00 - Other Receipts    - Total Non Revenue \\nReceipts (B)  68,953,438,931.00 57,439,447,660.00 -  Total Revenue Receipts \\n& Non Revenue'),\n",
       " Document(metadata={'page': 2, 'source': '/home/nuwan/workspace/penman/wrangler/data/parliment/scrape/ar/1725007046002945_navy.pdf'}, page_content='ANNUAL PERFORMANCE REPORT FOR THE YEAR 2023 \\nSRI LANKA NAVY  \\nEXPENDITURE HEAD NO. 223 \\n \\n \\nContents                 Page No \\n \\nChapter 01 - Institutional Profile/ Executive Summary     3-8 \\n \\nChapter 02 - Progress and the Future Outlook      9-26 \\n \\nChapter 03 - Overall Financial Performance for the Year     27-35 \\n \\nChapter 04 - Performance indicators        36-39 \\n \\nChapter 05 - Performance of the achieving Sustainable Development Goals (SDG) 40-51 \\n \\nChapter 06 - Human Resources Profile       52 \\n \\nChapter 07 - Compliance Report        53-61 \\n \\n \\n \\n \\n \\n \\n \\n \\n \\n \\n \\n \\n \\n \\n \\n \\n \\n \\n \\n \\n \\n \\n \\n \\n \\n \\n \\n \\n \\n \\n \\n \\n \\n \\n \\n \\n \\n2'),\n",
       " Document(metadata={'page': 55, 'source': '/home/nuwan/workspace/penman/wrangler/data/parliment/scrape/ar/1725007046002945_navy.pdf'}, page_content='61\\n 20 Responses Audit Paras \\n    \\n20.1 The shortcomings pointed \\nout in the audit paragraphs \\nissued by the Auditor \\nGeneral for the previous \\nyears have been rectified Complied')]"
      ]
     },
     "execution_count": 9,
     "metadata": {},
     "output_type": "execute_result"
    }
   ],
   "source": [
    "docs = vectorstore.similarity_search(\"list all the annual report years?\")\n",
    "docs"
   ]
  },
  {
   "cell_type": "markdown",
   "id": "19a865a6",
   "metadata": {},
   "source": [
    "## Setting Up Groq's LPU for Inference"
   ]
  },
  {
   "cell_type": "code",
   "execution_count": 35,
   "id": "8798c7cf-ff13-4293-afba-a6f52aa7fc76",
   "metadata": {},
   "outputs": [
    {
     "data": {
      "text/plain": [
       "ChatGroq(client=<groq.resources.chat.completions.Completions object at 0x7f99b28c8c70>, async_client=<groq.resources.chat.completions.AsyncCompletions object at 0x7f99b2a125f0>, groq_api_key=SecretStr('**********'))"
      ]
     },
     "execution_count": 35,
     "metadata": {},
     "output_type": "execute_result"
    }
   ],
   "source": [
    "from langchain_groq import ChatGroq\n",
    "\n",
    "llm = ChatGroq(\n",
    "            groq_api_key=os.getenv(\"GROQ_API_KEY\"),\n",
    "            model_name='mixtral-8x7b-32768'\n",
    "    )\n",
    "\n",
    "llm"
   ]
  },
  {
   "cell_type": "markdown",
   "id": "2bbdb075",
   "metadata": {},
   "source": [
    "## Building the RAG Chain"
   ]
  },
  {
   "cell_type": "code",
   "execution_count": 36,
   "id": "add67f88",
   "metadata": {},
   "outputs": [],
   "source": [
    "from langchain_core.prompts import ChatPromptTemplate\n",
    "from langchain_core.runnables import RunnablePassthrough\n",
    "from langchain_core.output_parsers import StrOutputParser\n",
    "\n",
    "retriever = vectorstore.as_retriever()\n",
    "\n",
    "rag_template = \"\"\"Answer this question using the provided context only.\n",
    "{question}\n",
    "\n",
    "Context:\n",
    "{context}\"\"\"\n",
    "rag_prompt = ChatPromptTemplate.from_template(rag_template)\n",
    "rag_chain = (\n",
    "    {\"context\": retriever, \"question\": RunnablePassthrough()}\n",
    "    | rag_prompt\n",
    "    | llm\n",
    "    | StrOutputParser()\n",
    ")"
   ]
  },
  {
   "cell_type": "markdown",
   "id": "86b16107",
   "metadata": {},
   "source": [
    "## Testing the RAG Architecture"
   ]
  },
  {
   "cell_type": "code",
   "execution_count": 44,
   "id": "ec31e10e",
   "metadata": {},
   "outputs": [
    {
     "name": "stdout",
     "output_type": "stream",
     "text": [
      "Here is a formatted covering page for the Navy 2023 annual report:  ---  SRI\n",
      "LANKA NAVY  ANNUAL PERFORMANCE REPORT - 2023  ---  This annual report provides\n",
      "an overview of the performance of the Sri Lanka Navy for the year 2023. It\n",
      "includes a detailed analysis of various aspects of the navy's operations,\n",
      "including institutional profile, progress and future outlook, financial\n",
      "performance, performance indicators, and human resources profile.  The report\n",
      "also includes a chapter on the navy's efforts to contribute to the achievement\n",
      "of Sustainable Development Goals (SDGs), specifically in the area of human\n",
      "resource development. The navy has provided internal courses for naval personnel\n",
      "to improve their skills and attitudes, with a total of 437 trained officers and\n",
      "5457 trained sailors. Additionally, the navy has trained a significant number of\n",
      "personnel through external programs, with 584 trained officers and 1576 trained\n",
      "sailors.  The navy has also conducted a total of 31 exams and tests, and has\n",
      "revised 47 syllabuses out of the total 47. These efforts reflect the navy's\n",
      "commitment to continuous learning and improvement.  The report also includes a\n",
      "chapter on the navy's financial performance, with a detailed breakdown of\n",
      "expenditure heads and a summary of the navy's overall financial performance for\n",
      "the year.  We hope that this annual report will provide valuable insights into\n",
      "the performance of the Sri Lanka Navy and its contribution to the security and\n",
      "development of the nation.  ---  Chapter 1: Institutional Profile/ Executive\n",
      "Summary (Page 3-8) Chapter 2: Progress and the Future Outlook (Page 9-26)\n",
      "Chapter 3: Overall Financial Performance for the Year (Page 27-35) Chapter 4:\n",
      "Performance Indicators (Page 36-39) Chapter 5: Performance of the achieving\n",
      "Sustainable Development Goals (SDG) (Page 40-51) Chapter 6: Human Resources\n",
      "Profile (Page 52) Chapter 7: Compliance Report (Page 53-61)\n"
     ]
    }
   ],
   "source": [
    "import textwrap\n",
    "response = rag_chain.invoke(\"Build a formatted covering page for the Navy 2023 annual report\")\n",
    "# response = rag_chain.invoke(\"build a formatted covering page for the 2023 navy annual report\")\n",
    "print(textwrap.fill(response, width=80))"
   ]
  },
  {
   "cell_type": "markdown",
   "id": "726d6d1b",
   "metadata": {},
   "source": [
    "## Launching the Gradio Interface"
   ]
  },
  {
   "cell_type": "code",
   "execution_count": 41,
   "id": "83d1e5e9",
   "metadata": {},
   "outputs": [],
   "source": [
    "def process_question(user_question):\n",
    "    # Processing and response time measurement here\n",
    "    iface = gr.Interface(\n",
    "        fn=process_question,\n",
    "        inputs=gr.Textbox(lines=2,\n",
    "                          placeholder=\"Type your question here...\"),\n",
    "        outputs=gr.Textbox(),\n",
    "        title=\"GROQ CHAT\",\n",
    "        description=\"Ask any question about your document, and get an answer along with the response time.\")\n",
    "    iface.launch(share=False)"
   ]
  },
  {
   "cell_type": "code",
   "execution_count": 42,
   "id": "2a5e3275",
   "metadata": {},
   "outputs": [
    {
     "name": "stdout",
     "output_type": "stream",
     "text": [
      "* Running on local URL:  http://127.0.0.1:7861\n",
      "\n",
      "To create a public link, set `share=True` in `launch()`.\n"
     ]
    },
    {
     "data": {
      "text/html": [
       "<div><iframe src=\"http://127.0.0.1:7861/\" width=\"100%\" height=\"500\" allow=\"autoplay; camera; microphone; clipboard-read; clipboard-write;\" frameborder=\"0\" allowfullscreen></iframe></div>"
      ],
      "text/plain": [
       "<IPython.core.display.HTML object>"
      ]
     },
     "metadata": {},
     "output_type": "display_data"
    },
    {
     "name": "stderr",
     "output_type": "stream",
     "text": [
      "Traceback (most recent call last):\n",
      "  File \"/home/nuwan/.cache/pypoetry/virtualenvs/penman-UgVLv5KY-py3.10/lib/python3.10/site-packages/gradio/queueing.py\", line 622, in process_events\n",
      "    response = await route_utils.call_process_api(\n",
      "  File \"/home/nuwan/.cache/pypoetry/virtualenvs/penman-UgVLv5KY-py3.10/lib/python3.10/site-packages/gradio/route_utils.py\", line 323, in call_process_api\n",
      "    output = await app.get_blocks().process_api(\n",
      "  File \"/home/nuwan/.cache/pypoetry/virtualenvs/penman-UgVLv5KY-py3.10/lib/python3.10/site-packages/gradio/blocks.py\", line 2014, in process_api\n",
      "    result = await self.call_function(\n",
      "  File \"/home/nuwan/.cache/pypoetry/virtualenvs/penman-UgVLv5KY-py3.10/lib/python3.10/site-packages/gradio/blocks.py\", line 1567, in call_function\n",
      "    prediction = await anyio.to_thread.run_sync(  # type: ignore\n",
      "  File \"/home/nuwan/.cache/pypoetry/virtualenvs/penman-UgVLv5KY-py3.10/lib/python3.10/site-packages/anyio/to_thread.py\", line 56, in run_sync\n",
      "    return await get_async_backend().run_sync_in_worker_thread(\n",
      "  File \"/home/nuwan/.cache/pypoetry/virtualenvs/penman-UgVLv5KY-py3.10/lib/python3.10/site-packages/anyio/_backends/_asyncio.py\", line 2441, in run_sync_in_worker_thread\n",
      "    return await future\n",
      "  File \"/home/nuwan/.cache/pypoetry/virtualenvs/penman-UgVLv5KY-py3.10/lib/python3.10/site-packages/anyio/_backends/_asyncio.py\", line 943, in run\n",
      "    result = context.run(func, *args)\n",
      "  File \"/home/nuwan/.cache/pypoetry/virtualenvs/penman-UgVLv5KY-py3.10/lib/python3.10/site-packages/gradio/utils.py\", line 846, in wrapper\n",
      "    response = f(*args, **kwargs)\n",
      "  File \"/tmp/ipykernel_327475/3393144403.py\", line 3, in process_question\n",
      "    iface = gr.Interface(\n",
      "  File \"/home/nuwan/.cache/pypoetry/virtualenvs/penman-UgVLv5KY-py3.10/lib/python3.10/site-packages/gradio/interface.py\", line 268, in __init__\n",
      "    self.main_input_components = [\n",
      "  File \"/home/nuwan/.cache/pypoetry/virtualenvs/penman-UgVLv5KY-py3.10/lib/python3.10/site-packages/gradio/interface.py\", line 269, in <listcomp>\n",
      "    get_component_instance(i, unrender=True) for i in inputs\n",
      "  File \"/home/nuwan/.cache/pypoetry/virtualenvs/penman-UgVLv5KY-py3.10/lib/python3.10/site-packages/gradio/components/base.py\", line 456, in get_component_instance\n",
      "    elif unrender and component_obj.is_rendered:\n",
      "AttributeError: 'Textbox' object has no attribute 'is_rendered'\n"
     ]
    }
   ],
   "source": [
    "user_question = \"what is cap?\"\n",
    "process_question(user_question)"
   ]
  },
  {
   "cell_type": "code",
   "execution_count": 2,
   "id": "07a805a1",
   "metadata": {},
   "outputs": [
    {
     "ename": "NameError",
     "evalue": "name 'os' is not defined",
     "output_type": "error",
     "traceback": [
      "\u001b[0;31m---------------------------------------------------------------------------\u001b[0m",
      "\u001b[0;31mNameError\u001b[0m                                 Traceback (most recent call last)",
      "Cell \u001b[0;32mIn[2], line 17\u001b[0m\n\u001b[1;32m     15\u001b[0m sys\u001b[38;5;241m.\u001b[39mmodules[\u001b[38;5;124m'\u001b[39m\u001b[38;5;124msqlite3\u001b[39m\u001b[38;5;124m'\u001b[39m] \u001b[38;5;241m=\u001b[39m sys\u001b[38;5;241m.\u001b[39mmodules\u001b[38;5;241m.\u001b[39mpop(\u001b[38;5;124m'\u001b[39m\u001b[38;5;124mpysqlite3\u001b[39m\u001b[38;5;124m'\u001b[39m)\n\u001b[1;32m     16\u001b[0m \u001b[38;5;66;03m# \u001b[39;00m\n\u001b[0;32m---> 17\u001b[0m __groq_api_key__ \u001b[38;5;241m=\u001b[39m \u001b[43mos\u001b[49m\u001b[38;5;241m.\u001b[39menviron\u001b[38;5;241m.\u001b[39mget(\u001b[38;5;124m\"\u001b[39m\u001b[38;5;124mGROQ_API_KEY\u001b[39m\u001b[38;5;124m\"\u001b[39m)\n\u001b[1;32m     19\u001b[0m \u001b[38;5;28mprint\u001b[39m(\u001b[38;5;124m\"\u001b[39m\u001b[38;5;124mAll libs loaded!\u001b[39m\u001b[38;5;124m\"\u001b[39m)\n",
      "\u001b[0;31mNameError\u001b[0m: name 'os' is not defined"
     ]
    }
   ],
   "source": [
    "# from langchain_groq import ChatGroq\n",
    "# from langchain_community import embeddings\n",
    "# from langchain_core.prompts import ChatPromptTemplate\n",
    "# from langchain.chains import create_retrieval_chain\n",
    "# from langchain_core.runnables import RunnablePassthrough\n",
    "# from langchain_core.output_parsers import StrOutputParser\n",
    "# # from google.colab import userdata\n",
    "# # import os\n",
    "# import time\n",
    "# import textwrap\n",
    "# import gradio as gr\n",
    "# ''' fix the problem with sqllite warning '''\n",
    "# __import__('pysqlite3')\n",
    "# import sys\n",
    "# sys.modules['sqlite3'] = sys.modules.pop('pysqlite3')\n",
    "# # \n",
    "# __groq_api_key__ = os.environ.get(\"GROQ_API_KEY\")\n",
    "\n",
    "# print(\"All libs loaded!\")"
   ]
  },
  {
   "cell_type": "code",
   "execution_count": null,
   "id": "a03ea43e",
   "metadata": {},
   "outputs": [],
   "source": []
  }
 ],
 "metadata": {
  "kernelspec": {
   "display_name": "Python 3 (ipykernel)",
   "language": "python",
   "name": "python3"
  },
  "language_info": {
   "codemirror_mode": {
    "name": "ipython",
    "version": 3
   },
   "file_extension": ".py",
   "mimetype": "text/x-python",
   "name": "python",
   "nbconvert_exporter": "python",
   "pygments_lexer": "ipython3",
   "version": "3.10.16"
  }
 },
 "nbformat": 4,
 "nbformat_minor": 5
}
